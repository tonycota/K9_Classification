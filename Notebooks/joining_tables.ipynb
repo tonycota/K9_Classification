{
 "cells": [
  {
   "cell_type": "code",
   "execution_count": 1,
   "metadata": {},
   "outputs": [],
   "source": [
    "import pandas as pd\n",
    "import sqlite3"
   ]
  },
  {
   "cell_type": "code",
   "execution_count": 2,
   "metadata": {},
   "outputs": [],
   "source": [
    "# Load CSV files into DataFrames\n",
    "df1 = pd.read_csv('../Outputs/efficient_net_b7_model.csv')\n",
    "df2 = pd.read_csv('../Outputs/inception_res_net_v2_model.csv')\n",
    "df3 = pd.read_csv('../Outputs/mobile_net_model.csv')\n",
    "df4 = pd.read_csv('../Outputs/vgg19_model.csv')\n",
    "df5 = pd.read_csv('../Outputs/xception_model.csv')\n"
   ]
  },
  {
   "cell_type": "code",
   "execution_count": 3,
   "metadata": {},
   "outputs": [],
   "source": [
    "# Create an SQLite database (in memory)\n",
    "conn = sqlite3.connect(':memory:')"
   ]
  },
  {
   "cell_type": "code",
   "execution_count": 4,
   "metadata": {},
   "outputs": [
    {
     "data": {
      "text/plain": [
       "5"
      ]
     },
     "execution_count": 4,
     "metadata": {},
     "output_type": "execute_result"
    }
   ],
   "source": [
    "# Load DataFrames into SQLite tables\n",
    "df1.to_sql('table1', conn, index=False, if_exists='replace')\n",
    "df2.to_sql('table2', conn, index=False, if_exists='replace')\n",
    "df3.to_sql('table3', conn, index=False, if_exists='replace')\n",
    "df4.to_sql('table4', conn, index=False, if_exists='replace')\n",
    "df5.to_sql('table5', conn, index=False, if_exists='replace')"
   ]
  },
  {
   "cell_type": "code",
   "execution_count": 9,
   "metadata": {},
   "outputs": [],
   "source": [
    "# Write the SQL query to join the tables\n",
    "query = '''\n",
    "SELECT \n",
    "    t1.*, t2.*\n",
    "FROM \n",
    "    table1 AS t1\n",
    "JOIN \n",
    "    table2 AS t2\n",
    "ON \n",
    "    t1.breed = t2.breed\n",
    "'''"
   ]
  },
  {
   "cell_type": "code",
   "execution_count": null,
   "metadata": {},
   "outputs": [],
   "source": []
  },
  {
   "cell_type": "code",
   "execution_count": 10,
   "metadata": {},
   "outputs": [],
   "source": [
    "# Execute the SQL query and fetch the results into a DataFrame\n",
    "result_df = pd.read_sql_query(query, conn)\n"
   ]
  },
  {
   "cell_type": "code",
   "execution_count": 11,
   "metadata": {},
   "outputs": [
    {
     "data": {
      "text/html": [
       "<div>\n",
       "<style scoped>\n",
       "    .dataframe tbody tr th:only-of-type {\n",
       "        vertical-align: middle;\n",
       "    }\n",
       "\n",
       "    .dataframe tbody tr th {\n",
       "        vertical-align: top;\n",
       "    }\n",
       "\n",
       "    .dataframe thead th {\n",
       "        text-align: right;\n",
       "    }\n",
       "</style>\n",
       "<table border=\"1\" class=\"dataframe\">\n",
       "  <thead>\n",
       "    <tr style=\"text-align: right;\">\n",
       "      <th></th>\n",
       "      <th>breed</th>\n",
       "      <th>prediction</th>\n",
       "      <th>breed</th>\n",
       "      <th>prediction</th>\n",
       "    </tr>\n",
       "  </thead>\n",
       "  <tbody>\n",
       "    <tr>\n",
       "      <th>0</th>\n",
       "      <td>Yorkshire_terrier</td>\n",
       "      <td>0.707574</td>\n",
       "      <td>Yorkshire_terrier</td>\n",
       "      <td>0.790774</td>\n",
       "    </tr>\n",
       "    <tr>\n",
       "      <th>1</th>\n",
       "      <td>Australian_terrier</td>\n",
       "      <td>0.049668</td>\n",
       "      <td>Australian_terrier</td>\n",
       "      <td>0.026721</td>\n",
       "    </tr>\n",
       "    <tr>\n",
       "      <th>2</th>\n",
       "      <td>silky_terrier</td>\n",
       "      <td>0.046728</td>\n",
       "      <td>silky_terrier</td>\n",
       "      <td>0.035807</td>\n",
       "    </tr>\n",
       "    <tr>\n",
       "      <th>3</th>\n",
       "      <td>toy_terrier</td>\n",
       "      <td>0.012989</td>\n",
       "      <td>toy_terrier</td>\n",
       "      <td>0.012485</td>\n",
       "    </tr>\n",
       "  </tbody>\n",
       "</table>\n",
       "</div>"
      ],
      "text/plain": [
       "                breed  prediction               breed  prediction\n",
       "0   Yorkshire_terrier    0.707574   Yorkshire_terrier    0.790774\n",
       "1  Australian_terrier    0.049668  Australian_terrier    0.026721\n",
       "2       silky_terrier    0.046728       silky_terrier    0.035807\n",
       "3         toy_terrier    0.012989         toy_terrier    0.012485"
      ]
     },
     "execution_count": 11,
     "metadata": {},
     "output_type": "execute_result"
    }
   ],
   "source": [
    "# showing the results for efficient_net_b7_model.csv and inception_res_net_v2_model.csv\n",
    "result_df.head()"
   ]
  },
  {
   "cell_type": "code",
   "execution_count": 16,
   "metadata": {},
   "outputs": [
    {
     "data": {
      "text/html": [
       "<div>\n",
       "<style scoped>\n",
       "    .dataframe tbody tr th:only-of-type {\n",
       "        vertical-align: middle;\n",
       "    }\n",
       "\n",
       "    .dataframe tbody tr th {\n",
       "        vertical-align: top;\n",
       "    }\n",
       "\n",
       "    .dataframe thead th {\n",
       "        text-align: right;\n",
       "    }\n",
       "</style>\n",
       "<table border=\"1\" class=\"dataframe\">\n",
       "  <thead>\n",
       "    <tr style=\"text-align: right;\">\n",
       "      <th></th>\n",
       "      <th>breed</th>\n",
       "      <th>predictions_ENB7</th>\n",
       "      <th>breed</th>\n",
       "      <th>predictions_IRNV2</th>\n",
       "    </tr>\n",
       "  </thead>\n",
       "  <tbody>\n",
       "    <tr>\n",
       "      <th>0</th>\n",
       "      <td>Yorkshire_terrier</td>\n",
       "      <td>0.707574</td>\n",
       "      <td>Yorkshire_terrier</td>\n",
       "      <td>0.790774</td>\n",
       "    </tr>\n",
       "    <tr>\n",
       "      <th>1</th>\n",
       "      <td>Australian_terrier</td>\n",
       "      <td>0.049668</td>\n",
       "      <td>Australian_terrier</td>\n",
       "      <td>0.026721</td>\n",
       "    </tr>\n",
       "    <tr>\n",
       "      <th>2</th>\n",
       "      <td>silky_terrier</td>\n",
       "      <td>0.046728</td>\n",
       "      <td>silky_terrier</td>\n",
       "      <td>0.035807</td>\n",
       "    </tr>\n",
       "    <tr>\n",
       "      <th>3</th>\n",
       "      <td>toy_terrier</td>\n",
       "      <td>0.012989</td>\n",
       "      <td>toy_terrier</td>\n",
       "      <td>0.012485</td>\n",
       "    </tr>\n",
       "  </tbody>\n",
       "</table>\n",
       "</div>"
      ],
      "text/plain": [
       "                breed  predictions_ENB7               breed  predictions_IRNV2\n",
       "0   Yorkshire_terrier          0.707574   Yorkshire_terrier           0.790774\n",
       "1  Australian_terrier          0.049668  Australian_terrier           0.026721\n",
       "2       silky_terrier          0.046728       silky_terrier           0.035807\n",
       "3         toy_terrier          0.012989         toy_terrier           0.012485"
      ]
     },
     "execution_count": 16,
     "metadata": {},
     "output_type": "execute_result"
    }
   ],
   "source": [
    "# renaming columns for clarification purposes\n",
    "result_df.columns.values[1] = 'predictions_ENB7'\n",
    "result_df.columns.values[3] = 'predictions_IRNV2'\n",
    "result_df.head()"
   ]
  },
  {
   "cell_type": "code",
   "execution_count": 18,
   "metadata": {},
   "outputs": [
    {
     "data": {
      "text/html": [
       "<div>\n",
       "<style scoped>\n",
       "    .dataframe tbody tr th:only-of-type {\n",
       "        vertical-align: middle;\n",
       "    }\n",
       "\n",
       "    .dataframe tbody tr th {\n",
       "        vertical-align: top;\n",
       "    }\n",
       "\n",
       "    .dataframe thead th {\n",
       "        text-align: right;\n",
       "    }\n",
       "</style>\n",
       "<table border=\"1\" class=\"dataframe\">\n",
       "  <thead>\n",
       "    <tr style=\"text-align: right;\">\n",
       "      <th></th>\n",
       "      <th>breed</th>\n",
       "      <th>prediction</th>\n",
       "      <th>breed</th>\n",
       "      <th>prediction</th>\n",
       "    </tr>\n",
       "  </thead>\n",
       "  <tbody>\n",
       "    <tr>\n",
       "      <th>0</th>\n",
       "      <td>Yorkshire_terrier</td>\n",
       "      <td>0.970375</td>\n",
       "      <td>Yorkshire_terrier</td>\n",
       "      <td>0.790774</td>\n",
       "    </tr>\n",
       "    <tr>\n",
       "      <th>1</th>\n",
       "      <td>silky_terrier</td>\n",
       "      <td>0.014948</td>\n",
       "      <td>silky_terrier</td>\n",
       "      <td>0.035807</td>\n",
       "    </tr>\n",
       "    <tr>\n",
       "      <th>2</th>\n",
       "      <td>toy_terrier</td>\n",
       "      <td>0.010485</td>\n",
       "      <td>toy_terrier</td>\n",
       "      <td>0.012485</td>\n",
       "    </tr>\n",
       "    <tr>\n",
       "      <th>3</th>\n",
       "      <td>Australian_terrier</td>\n",
       "      <td>0.003030</td>\n",
       "      <td>Australian_terrier</td>\n",
       "      <td>0.026721</td>\n",
       "    </tr>\n",
       "  </tbody>\n",
       "</table>\n",
       "</div>"
      ],
      "text/plain": [
       "                breed  prediction               breed  prediction\n",
       "0   Yorkshire_terrier    0.970375   Yorkshire_terrier    0.790774\n",
       "1       silky_terrier    0.014948       silky_terrier    0.035807\n",
       "2         toy_terrier    0.010485         toy_terrier    0.012485\n",
       "3  Australian_terrier    0.003030  Australian_terrier    0.026721"
      ]
     },
     "execution_count": 18,
     "metadata": {},
     "output_type": "execute_result"
    }
   ],
   "source": [
    "# joining more tables\n",
    "query = '''\n",
    "SELECT \n",
    "    t3.*, t2.*\n",
    "FROM \n",
    "    table3 AS t3\n",
    "JOIN \n",
    "    table2 AS t2\n",
    "ON \n",
    "    t3.breed = t2.breed\n",
    "'''\n",
    "result_df = pd.read_sql_query(query, conn)\n",
    "result_df.head()"
   ]
  },
  {
   "cell_type": "code",
   "execution_count": 19,
   "metadata": {},
   "outputs": [
    {
     "data": {
      "text/html": [
       "<div>\n",
       "<style scoped>\n",
       "    .dataframe tbody tr th:only-of-type {\n",
       "        vertical-align: middle;\n",
       "    }\n",
       "\n",
       "    .dataframe tbody tr th {\n",
       "        vertical-align: top;\n",
       "    }\n",
       "\n",
       "    .dataframe thead th {\n",
       "        text-align: right;\n",
       "    }\n",
       "</style>\n",
       "<table border=\"1\" class=\"dataframe\">\n",
       "  <thead>\n",
       "    <tr style=\"text-align: right;\">\n",
       "      <th></th>\n",
       "      <th>breed</th>\n",
       "      <th>prediction</th>\n",
       "    </tr>\n",
       "  </thead>\n",
       "  <tbody>\n",
       "    <tr>\n",
       "      <th>0</th>\n",
       "      <td>Yorkshire_terrier</td>\n",
       "      <td>0.707574</td>\n",
       "    </tr>\n",
       "    <tr>\n",
       "      <th>1</th>\n",
       "      <td>Australian_terrier</td>\n",
       "      <td>0.049668</td>\n",
       "    </tr>\n",
       "    <tr>\n",
       "      <th>2</th>\n",
       "      <td>silky_terrier</td>\n",
       "      <td>0.046728</td>\n",
       "    </tr>\n",
       "    <tr>\n",
       "      <th>3</th>\n",
       "      <td>toy_terrier</td>\n",
       "      <td>0.012989</td>\n",
       "    </tr>\n",
       "    <tr>\n",
       "      <th>4</th>\n",
       "      <td>Maltese_dog</td>\n",
       "      <td>0.005984</td>\n",
       "    </tr>\n",
       "  </tbody>\n",
       "</table>\n",
       "</div>"
      ],
      "text/plain": [
       "                breed  prediction\n",
       "0   Yorkshire_terrier    0.707574\n",
       "1  Australian_terrier    0.049668\n",
       "2       silky_terrier    0.046728\n",
       "3         toy_terrier    0.012989\n",
       "4         Maltese_dog    0.005984"
      ]
     },
     "execution_count": 19,
     "metadata": {},
     "output_type": "execute_result"
    }
   ],
   "source": [
    "# trying a different approach to join all of the tables together\n",
    "csv_paths= [\n",
    "    '../Outputs/efficient_net_b7_model.csv',\n",
    "    '../Outputs/inception_res_net_v2_model.csv',\n",
    "    '../Outputs/mobile_net_model.csv',\n",
    "    '../Outputs/vgg19_model.csv',\n",
    "    '../Outputs/xception_model.csv'\n",
    "]\n",
    "dataframes = [pd.read_csv(file)for file in csv_paths]\n",
    "\n",
    "combo_df = pd.concat(dataframes, ignore_index=True)\n",
    "combo_df.head()\n"
   ]
  },
  {
   "cell_type": "code",
   "execution_count": null,
   "metadata": {},
   "outputs": [],
   "source": []
  }
 ],
 "metadata": {
  "kernelspec": {
   "display_name": "dev",
   "language": "python",
   "name": "python3"
  },
  "language_info": {
   "codemirror_mode": {
    "name": "ipython",
    "version": 3
   },
   "file_extension": ".py",
   "mimetype": "text/x-python",
   "name": "python",
   "nbconvert_exporter": "python",
   "pygments_lexer": "ipython3",
   "version": "3.10.13"
  }
 },
 "nbformat": 4,
 "nbformat_minor": 2
}
