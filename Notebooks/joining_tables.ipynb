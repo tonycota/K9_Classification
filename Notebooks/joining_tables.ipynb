{
 "cells": [
  {
   "cell_type": "code",
   "execution_count": 19,
   "metadata": {},
   "outputs": [],
   "source": [
    "import pandas as pd\n",
    "import sqlite3"
   ]
  },
  {
   "cell_type": "code",
   "execution_count": 20,
   "metadata": {},
   "outputs": [],
   "source": [
    "# Load CSV files into DataFrames\n",
    "df1 = pd.read_csv('../Outputs/efficient_net_b7_model.csv')\n",
    "df2 = pd.read_csv('../Outputs/inception_res_net_v2_model.csv')\n",
    "df3 = pd.read_csv('../Outputs/mobile_net_model.csv')\n",
    "df4 = pd.read_csv('../Outputs/vgg19_model.csv')\n",
    "df5 = pd.read_csv('../Outputs/xception_model.csv')\n"
   ]
  },
  {
   "cell_type": "code",
   "execution_count": 21,
   "metadata": {},
   "outputs": [],
   "source": [
    "# Create an SQLite database (in memory)\n",
    "conn = sqlite3.connect(':memory:')"
   ]
  },
  {
   "cell_type": "code",
   "execution_count": 22,
   "metadata": {},
   "outputs": [
    {
     "data": {
      "text/plain": [
       "5"
      ]
     },
     "execution_count": 22,
     "metadata": {},
     "output_type": "execute_result"
    }
   ],
   "source": [
    "# Load DataFrames into SQLite tables\n",
    "df1.to_sql('table1', conn, index=False, if_exists='replace')\n",
    "df2.to_sql('table2', conn, index=False, if_exists='replace')\n",
    "df3.to_sql('table3', conn, index=False, if_exists='replace')\n",
    "df4.to_sql('table4', conn, index=False, if_exists='replace')\n",
    "df5.to_sql('table5', conn, index=False, if_exists='replace')"
   ]
  },
  {
   "cell_type": "code",
   "execution_count": 23,
   "metadata": {},
   "outputs": [],
   "source": [
    "# Write the SQL query to join the tables\n",
    "query = '''\n",
    "SELECT \n",
    "    t1.*, t2.*\n",
    "FROM \n",
    "    table1 AS t1\n",
    "JOIN \n",
    "    table2 AS t2\n",
    "ON \n",
    "    t1.breed = t2.breed\n",
    "'''"
   ]
  },
  {
   "cell_type": "code",
   "execution_count": 24,
   "metadata": {},
   "outputs": [],
   "source": [
    "# Execute the SQL query and fetch the results into a DataFrame\n",
    "result_df = pd.read_sql_query(query, conn)\n"
   ]
  },
  {
   "cell_type": "code",
   "execution_count": 25,
   "metadata": {},
   "outputs": [
    {
     "data": {
      "text/html": [
       "<div>\n",
       "<style scoped>\n",
       "    .dataframe tbody tr th:only-of-type {\n",
       "        vertical-align: middle;\n",
       "    }\n",
       "\n",
       "    .dataframe tbody tr th {\n",
       "        vertical-align: top;\n",
       "    }\n",
       "\n",
       "    .dataframe thead th {\n",
       "        text-align: right;\n",
       "    }\n",
       "</style>\n",
       "<table border=\"1\" class=\"dataframe\">\n",
       "  <thead>\n",
       "    <tr style=\"text-align: right;\">\n",
       "      <th></th>\n",
       "      <th>breed</th>\n",
       "      <th>prediction_ENB7</th>\n",
       "      <th>breed</th>\n",
       "      <th>prediction_INRV2</th>\n",
       "    </tr>\n",
       "  </thead>\n",
       "  <tbody>\n",
       "    <tr>\n",
       "      <th>0</th>\n",
       "      <td>Yorkshire_terrier</td>\n",
       "      <td>0.707574</td>\n",
       "      <td>Yorkshire_terrier</td>\n",
       "      <td>0.790774</td>\n",
       "    </tr>\n",
       "    <tr>\n",
       "      <th>1</th>\n",
       "      <td>Australian_terrier</td>\n",
       "      <td>0.049668</td>\n",
       "      <td>Australian_terrier</td>\n",
       "      <td>0.026721</td>\n",
       "    </tr>\n",
       "    <tr>\n",
       "      <th>2</th>\n",
       "      <td>silky_terrier</td>\n",
       "      <td>0.046728</td>\n",
       "      <td>silky_terrier</td>\n",
       "      <td>0.035807</td>\n",
       "    </tr>\n",
       "    <tr>\n",
       "      <th>3</th>\n",
       "      <td>toy_terrier</td>\n",
       "      <td>0.012989</td>\n",
       "      <td>toy_terrier</td>\n",
       "      <td>0.012485</td>\n",
       "    </tr>\n",
       "  </tbody>\n",
       "</table>\n",
       "</div>"
      ],
      "text/plain": [
       "                breed  prediction_ENB7               breed  prediction_INRV2\n",
       "0   Yorkshire_terrier         0.707574   Yorkshire_terrier          0.790774\n",
       "1  Australian_terrier         0.049668  Australian_terrier          0.026721\n",
       "2       silky_terrier         0.046728       silky_terrier          0.035807\n",
       "3         toy_terrier         0.012989         toy_terrier          0.012485"
      ]
     },
     "execution_count": 25,
     "metadata": {},
     "output_type": "execute_result"
    }
   ],
   "source": [
    "# showing the results for efficient_net_b7_model.csv and inception_res_net_v2_model.csv\n",
    "result_df.columns=['breed', 'prediction_ENB7', 'breed', 'prediction_INRV2']\n",
    "result_df.head()"
   ]
  },
  {
   "cell_type": "code",
   "execution_count": 26,
   "metadata": {},
   "outputs": [],
   "source": [
    "# # renaming columns for clarification purposes\n",
    "# result_df.columns.values[1] = 'predictions_ENB7'\n",
    "# result_df.columns.values[3] = 'predictions_IRNV2'\n",
    "# result_df.head()"
   ]
  },
  {
   "cell_type": "code",
   "execution_count": 27,
   "metadata": {},
   "outputs": [],
   "source": [
    "# joining more tables xception model and vgg19 model\n",
    "query = '''\n",
    "SELECT \n",
    "    t4.*, t5.*\n",
    "FROM \n",
    "    table4 AS t4\n",
    "JOIN \n",
    "    table5 AS t5\n",
    "ON \n",
    "    t4.breed = t5.breed\n",
    "'''\n",
    "result_df = pd.read_sql_query(query, conn)\n",
    "# result_df.head()"
   ]
  },
  {
   "cell_type": "code",
   "execution_count": 28,
   "metadata": {},
   "outputs": [
    {
     "data": {
      "text/html": [
       "<div>\n",
       "<style scoped>\n",
       "    .dataframe tbody tr th:only-of-type {\n",
       "        vertical-align: middle;\n",
       "    }\n",
       "\n",
       "    .dataframe tbody tr th {\n",
       "        vertical-align: top;\n",
       "    }\n",
       "\n",
       "    .dataframe thead th {\n",
       "        text-align: right;\n",
       "    }\n",
       "</style>\n",
       "<table border=\"1\" class=\"dataframe\">\n",
       "  <thead>\n",
       "    <tr style=\"text-align: right;\">\n",
       "      <th></th>\n",
       "      <th>breed</th>\n",
       "      <th>prediction_vgg19</th>\n",
       "      <th>breed</th>\n",
       "      <th>prediction_xception</th>\n",
       "    </tr>\n",
       "  </thead>\n",
       "  <tbody>\n",
       "    <tr>\n",
       "      <th>0</th>\n",
       "      <td>Yorkshire_terrier</td>\n",
       "      <td>0.946526</td>\n",
       "      <td>Yorkshire_terrier</td>\n",
       "      <td>0.805754</td>\n",
       "    </tr>\n",
       "    <tr>\n",
       "      <th>1</th>\n",
       "      <td>silky_terrier</td>\n",
       "      <td>0.027001</td>\n",
       "      <td>silky_terrier</td>\n",
       "      <td>0.047730</td>\n",
       "    </tr>\n",
       "    <tr>\n",
       "      <th>2</th>\n",
       "      <td>Australian_terrier</td>\n",
       "      <td>0.016599</td>\n",
       "      <td>Australian_terrier</td>\n",
       "      <td>0.021494</td>\n",
       "    </tr>\n",
       "    <tr>\n",
       "      <th>3</th>\n",
       "      <td>toy_terrier</td>\n",
       "      <td>0.004414</td>\n",
       "      <td>toy_terrier</td>\n",
       "      <td>0.010525</td>\n",
       "    </tr>\n",
       "    <tr>\n",
       "      <th>4</th>\n",
       "      <td>Norfolk_terrier</td>\n",
       "      <td>0.001563</td>\n",
       "      <td>Norfolk_terrier</td>\n",
       "      <td>0.004215</td>\n",
       "    </tr>\n",
       "  </tbody>\n",
       "</table>\n",
       "</div>"
      ],
      "text/plain": [
       "                breed  prediction_vgg19               breed  \\\n",
       "0   Yorkshire_terrier          0.946526   Yorkshire_terrier   \n",
       "1       silky_terrier          0.027001       silky_terrier   \n",
       "2  Australian_terrier          0.016599  Australian_terrier   \n",
       "3         toy_terrier          0.004414         toy_terrier   \n",
       "4     Norfolk_terrier          0.001563     Norfolk_terrier   \n",
       "\n",
       "   prediction_xception  \n",
       "0             0.805754  \n",
       "1             0.047730  \n",
       "2             0.021494  \n",
       "3             0.010525  \n",
       "4             0.004215  "
      ]
     },
     "execution_count": 28,
     "metadata": {},
     "output_type": "execute_result"
    }
   ],
   "source": [
    "result_df.columns= ['breed', 'prediction_vgg19', 'breed', 'prediction_xception']\n",
    "result_df.head()"
   ]
  },
  {
   "cell_type": "code",
   "execution_count": 29,
   "metadata": {},
   "outputs": [
    {
     "data": {
      "text/html": [
       "<div>\n",
       "<style scoped>\n",
       "    .dataframe tbody tr th:only-of-type {\n",
       "        vertical-align: middle;\n",
       "    }\n",
       "\n",
       "    .dataframe tbody tr th {\n",
       "        vertical-align: top;\n",
       "    }\n",
       "\n",
       "    .dataframe thead th {\n",
       "        text-align: right;\n",
       "    }\n",
       "</style>\n",
       "<table border=\"1\" class=\"dataframe\">\n",
       "  <thead>\n",
       "    <tr style=\"text-align: right;\">\n",
       "      <th></th>\n",
       "      <th>breed</th>\n",
       "      <th>prediction</th>\n",
       "    </tr>\n",
       "  </thead>\n",
       "  <tbody>\n",
       "    <tr>\n",
       "      <th>0</th>\n",
       "      <td>Yorkshire_terrier</td>\n",
       "      <td>0.707574</td>\n",
       "    </tr>\n",
       "    <tr>\n",
       "      <th>1</th>\n",
       "      <td>Australian_terrier</td>\n",
       "      <td>0.049668</td>\n",
       "    </tr>\n",
       "    <tr>\n",
       "      <th>2</th>\n",
       "      <td>silky_terrier</td>\n",
       "      <td>0.046728</td>\n",
       "    </tr>\n",
       "    <tr>\n",
       "      <th>3</th>\n",
       "      <td>toy_terrier</td>\n",
       "      <td>0.012989</td>\n",
       "    </tr>\n",
       "    <tr>\n",
       "      <th>4</th>\n",
       "      <td>Maltese_dog</td>\n",
       "      <td>0.005984</td>\n",
       "    </tr>\n",
       "    <tr>\n",
       "      <th>5</th>\n",
       "      <td>Yorkshire_terrier</td>\n",
       "      <td>0.790774</td>\n",
       "    </tr>\n",
       "    <tr>\n",
       "      <th>6</th>\n",
       "      <td>silky_terrier</td>\n",
       "      <td>0.035807</td>\n",
       "    </tr>\n",
       "    <tr>\n",
       "      <th>7</th>\n",
       "      <td>Australian_terrier</td>\n",
       "      <td>0.026721</td>\n",
       "    </tr>\n",
       "    <tr>\n",
       "      <th>8</th>\n",
       "      <td>toy_terrier</td>\n",
       "      <td>0.012485</td>\n",
       "    </tr>\n",
       "    <tr>\n",
       "      <th>9</th>\n",
       "      <td>Lakeland_terrier</td>\n",
       "      <td>0.001828</td>\n",
       "    </tr>\n",
       "    <tr>\n",
       "      <th>10</th>\n",
       "      <td>Yorkshire_terrier</td>\n",
       "      <td>0.970375</td>\n",
       "    </tr>\n",
       "    <tr>\n",
       "      <th>11</th>\n",
       "      <td>silky_terrier</td>\n",
       "      <td>0.014948</td>\n",
       "    </tr>\n",
       "    <tr>\n",
       "      <th>12</th>\n",
       "      <td>toy_terrier</td>\n",
       "      <td>0.010485</td>\n",
       "    </tr>\n",
       "    <tr>\n",
       "      <th>13</th>\n",
       "      <td>Australian_terrier</td>\n",
       "      <td>0.003030</td>\n",
       "    </tr>\n",
       "    <tr>\n",
       "      <th>14</th>\n",
       "      <td>cairn</td>\n",
       "      <td>0.000342</td>\n",
       "    </tr>\n",
       "    <tr>\n",
       "      <th>15</th>\n",
       "      <td>Yorkshire_terrier</td>\n",
       "      <td>0.946526</td>\n",
       "    </tr>\n",
       "    <tr>\n",
       "      <th>16</th>\n",
       "      <td>silky_terrier</td>\n",
       "      <td>0.027001</td>\n",
       "    </tr>\n",
       "    <tr>\n",
       "      <th>17</th>\n",
       "      <td>Australian_terrier</td>\n",
       "      <td>0.016599</td>\n",
       "    </tr>\n",
       "    <tr>\n",
       "      <th>18</th>\n",
       "      <td>toy_terrier</td>\n",
       "      <td>0.004414</td>\n",
       "    </tr>\n",
       "    <tr>\n",
       "      <th>19</th>\n",
       "      <td>Norfolk_terrier</td>\n",
       "      <td>0.001563</td>\n",
       "    </tr>\n",
       "    <tr>\n",
       "      <th>20</th>\n",
       "      <td>Yorkshire_terrier</td>\n",
       "      <td>0.805754</td>\n",
       "    </tr>\n",
       "    <tr>\n",
       "      <th>21</th>\n",
       "      <td>silky_terrier</td>\n",
       "      <td>0.047730</td>\n",
       "    </tr>\n",
       "    <tr>\n",
       "      <th>22</th>\n",
       "      <td>Australian_terrier</td>\n",
       "      <td>0.021494</td>\n",
       "    </tr>\n",
       "    <tr>\n",
       "      <th>23</th>\n",
       "      <td>toy_terrier</td>\n",
       "      <td>0.010525</td>\n",
       "    </tr>\n",
       "    <tr>\n",
       "      <th>24</th>\n",
       "      <td>Norfolk_terrier</td>\n",
       "      <td>0.004215</td>\n",
       "    </tr>\n",
       "  </tbody>\n",
       "</table>\n",
       "</div>"
      ],
      "text/plain": [
       "                 breed  prediction\n",
       "0    Yorkshire_terrier    0.707574\n",
       "1   Australian_terrier    0.049668\n",
       "2        silky_terrier    0.046728\n",
       "3          toy_terrier    0.012989\n",
       "4          Maltese_dog    0.005984\n",
       "5    Yorkshire_terrier    0.790774\n",
       "6        silky_terrier    0.035807\n",
       "7   Australian_terrier    0.026721\n",
       "8          toy_terrier    0.012485\n",
       "9     Lakeland_terrier    0.001828\n",
       "10   Yorkshire_terrier    0.970375\n",
       "11       silky_terrier    0.014948\n",
       "12         toy_terrier    0.010485\n",
       "13  Australian_terrier    0.003030\n",
       "14               cairn    0.000342\n",
       "15   Yorkshire_terrier    0.946526\n",
       "16       silky_terrier    0.027001\n",
       "17  Australian_terrier    0.016599\n",
       "18         toy_terrier    0.004414\n",
       "19     Norfolk_terrier    0.001563\n",
       "20   Yorkshire_terrier    0.805754\n",
       "21       silky_terrier    0.047730\n",
       "22  Australian_terrier    0.021494\n",
       "23         toy_terrier    0.010525\n",
       "24     Norfolk_terrier    0.004215"
      ]
     },
     "execution_count": 29,
     "metadata": {},
     "output_type": "execute_result"
    }
   ],
   "source": [
    "# trying a different approach to join all of the tables together\n",
    "csv_paths= [\n",
    "    '../Outputs/efficient_net_b7_model.csv',\n",
    "    '../Outputs/inception_res_net_v2_model.csv',\n",
    "    '../Outputs/mobile_net_model.csv',\n",
    "    '../Outputs/vgg19_model.csv',\n",
    "    '../Outputs/xception_model.csv'\n",
    "]\n",
    "dataframes = [pd.read_csv(file)for file in csv_paths]\n",
    "\n",
    "combo_df = pd.concat(dataframes, ignore_index=True, sort=False)\n",
    "combo_df\n"
   ]
  },
  {
   "cell_type": "code",
   "execution_count": 30,
   "metadata": {},
   "outputs": [
    {
     "data": {
      "text/html": [
       "<div>\n",
       "<style scoped>\n",
       "    .dataframe tbody tr th:only-of-type {\n",
       "        vertical-align: middle;\n",
       "    }\n",
       "\n",
       "    .dataframe tbody tr th {\n",
       "        vertical-align: top;\n",
       "    }\n",
       "\n",
       "    .dataframe thead th {\n",
       "        text-align: right;\n",
       "    }\n",
       "</style>\n",
       "<table border=\"1\" class=\"dataframe\">\n",
       "  <thead>\n",
       "    <tr style=\"text-align: right;\">\n",
       "      <th></th>\n",
       "      <th>Model_Name</th>\n",
       "      <th>Breed</th>\n",
       "      <th>Accuracy</th>\n",
       "    </tr>\n",
       "  </thead>\n",
       "  <tbody>\n",
       "    <tr>\n",
       "      <th>0</th>\n",
       "      <td>Efficient_Net_B7</td>\n",
       "      <td>Yorkshire_terrier</td>\n",
       "      <td>0.707</td>\n",
       "    </tr>\n",
       "    <tr>\n",
       "      <th>1</th>\n",
       "      <td>Inception_Res_Net_V2</td>\n",
       "      <td>Yorkshire_terrier</td>\n",
       "      <td>0.790</td>\n",
       "    </tr>\n",
       "    <tr>\n",
       "      <th>2</th>\n",
       "      <td>Mobile_Net</td>\n",
       "      <td>Yorkshire_terrier</td>\n",
       "      <td>0.970</td>\n",
       "    </tr>\n",
       "    <tr>\n",
       "      <th>3</th>\n",
       "      <td>VGG19</td>\n",
       "      <td>Yorkshire_terrier</td>\n",
       "      <td>0.946</td>\n",
       "    </tr>\n",
       "    <tr>\n",
       "      <th>4</th>\n",
       "      <td>Xception</td>\n",
       "      <td>Yorkshire_terrier</td>\n",
       "      <td>0.805</td>\n",
       "    </tr>\n",
       "  </tbody>\n",
       "</table>\n",
       "</div>"
      ],
      "text/plain": [
       "             Model_Name              Breed  Accuracy\n",
       "0      Efficient_Net_B7  Yorkshire_terrier     0.707\n",
       "1  Inception_Res_Net_V2  Yorkshire_terrier     0.790\n",
       "2            Mobile_Net  Yorkshire_terrier     0.970\n",
       "3                 VGG19  Yorkshire_terrier     0.946\n",
       "4              Xception  Yorkshire_terrier     0.805"
      ]
     },
     "execution_count": 30,
     "metadata": {},
     "output_type": "execute_result"
    }
   ],
   "source": [
    "data = {\n",
    "    'Model_Name': [\"Efficient_Net_B7\", \"Inception_Res_Net_V2\", 'Mobile_Net', 'VGG19', 'Xception'],\n",
    "    'Breed': ['Yorkshire_terrier','Yorkshire_terrier','Yorkshire_terrier','Yorkshire_terrier','Yorkshire_terrier'],\n",
    "    'Accuracy': [0.707, 0.790, 0.970, 0.946, 0.805]\n",
    "}\n",
    "data_df = pd.DataFrame(data)\n",
    "data_df\n"
   ]
  },
  {
   "cell_type": "code",
   "execution_count": 31,
   "metadata": {},
   "outputs": [],
   "source": [
    "import matplotlib.pyplot as plt\n",
    "import seaborn as sns\n"
   ]
  },
  {
   "cell_type": "code",
   "execution_count": 32,
   "metadata": {},
   "outputs": [
    {
     "name": "stdout",
     "output_type": "stream",
     "text": [
      "Photo saved succesfully\n"
     ]
    },
    {
     "data": {
      "image/png": "[encoded data removed]",
      "text/plain": [
       "<Figure size 640x480 with 1 Axes>"
      ]
     },
     "metadata": {},
     "output_type": "display_data"
    }
   ],
   "source": [
    "sns.barplot(x='Model_Name', y='Accuracy', data = data_df)\n",
    "plt.title('Accuracy of Models on Photo of Yorkshire Terrier')\n",
    "plt.xlabel('Name of Model Implemented')\n",
    "plt.ylabel('Accuracy of Model')\n",
    "plt.xticks(rotation=45)\n",
    "plt.savefig('../Outputs/accuracy_graph', dpi=300, bbox_inches='tight')\n",
    "print(f'Photo saved succesfully')\n",
    "plt.show()"
   ]
  },
  {
   "cell_type": "code",
   "execution_count": 40,
   "metadata": {},
   "outputs": [
    {
     "name": "stdout",
     "output_type": "stream",
     "text": [
      "The average overall score for the Efficient Net B7 model was 68.67%\n",
      "The average overall score for the Inception Res Net model was 82.67%\n",
      "The average overall score for the Mobile Net model was 86.00%\n",
      "The average overall score for the VGG19 model was 78.33%\n",
      "The average overall score for the Xception model was 69.00%\n"
     ]
    }
   ],
   "source": [
    "# finding overall average winning model over samples of three photos \n",
    "\n",
    "# efficient net B7 models\n",
    "enb7 = [56,71,79]\n",
    "enb7_final = sum(enb7)/len(enb7)\n",
    "print(f'The average overall score for the Efficient Net B7 model was {enb7_final:.2f}%')\n",
    "\n",
    "# inception res net v2 model\n",
    "irnfv2 = [79,79,90]\n",
    "irnfv2_final = sum(irnfv2)/len(irnfv2)\n",
    "print(f\"The average overall score for the Inception Res Net model was {irnfv2_final:.2f}%\")\n",
    "\n",
    "# mobile net model\n",
    "mobile_net = [62,97,99]\n",
    "mobile_net_final = sum(mobile_net)/len(mobile_net)\n",
    "print(f\"The average overall score for the Mobile Net model was {mobile_net_final:.2f}%\")\n",
    "\n",
    "# VGG19 model\n",
    "vgg19 = [61,94,80]\n",
    "vgg19_final = sum(vgg19)/len(vgg19)\n",
    "print(f\"The average overall score for the VGG19 model was {vgg19_final:.2f}%\")\n",
    "\n",
    "# xception model\n",
    "xception = [30,80,97]\n",
    "xception_final = sum(xception)/ len(xception)\n",
    "print(f\"The average overall score for the Xception model was {xception_final:.2f}%\")\n"
   ]
  },
  {
   "cell_type": "code",
   "execution_count": 42,
   "metadata": {},
   "outputs": [
    {
     "data": {
      "text/html": [
       "<div>\n",
       "<style scoped>\n",
       "    .dataframe tbody tr th:only-of-type {\n",
       "        vertical-align: middle;\n",
       "    }\n",
       "\n",
       "    .dataframe tbody tr th {\n",
       "        vertical-align: top;\n",
       "    }\n",
       "\n",
       "    .dataframe thead th {\n",
       "        text-align: right;\n",
       "    }\n",
       "</style>\n",
       "<table border=\"1\" class=\"dataframe\">\n",
       "  <thead>\n",
       "    <tr style=\"text-align: right;\">\n",
       "      <th></th>\n",
       "      <th>Name_of_Model</th>\n",
       "      <th>Overall_Average_Accuracies</th>\n",
       "    </tr>\n",
       "  </thead>\n",
       "  <tbody>\n",
       "    <tr>\n",
       "      <th>0</th>\n",
       "      <td>Efficient_Net_B7</td>\n",
       "      <td>68.67</td>\n",
       "    </tr>\n",
       "    <tr>\n",
       "      <th>1</th>\n",
       "      <td>Inception_Res_Net_V2</td>\n",
       "      <td>82.67</td>\n",
       "    </tr>\n",
       "    <tr>\n",
       "      <th>2</th>\n",
       "      <td>Mobile_Net</td>\n",
       "      <td>86.00</td>\n",
       "    </tr>\n",
       "    <tr>\n",
       "      <th>3</th>\n",
       "      <td>VGG19</td>\n",
       "      <td>78.33</td>\n",
       "    </tr>\n",
       "    <tr>\n",
       "      <th>4</th>\n",
       "      <td>Xception</td>\n",
       "      <td>69.00</td>\n",
       "    </tr>\n",
       "  </tbody>\n",
       "</table>\n",
       "</div>"
      ],
      "text/plain": [
       "          Name_of_Model  Overall_Average_Accuracies\n",
       "0      Efficient_Net_B7                       68.67\n",
       "1  Inception_Res_Net_V2                       82.67\n",
       "2            Mobile_Net                       86.00\n",
       "3                 VGG19                       78.33\n",
       "4              Xception                       69.00"
      ]
     },
     "execution_count": 42,
     "metadata": {},
     "output_type": "execute_result"
    }
   ],
   "source": [
    "# building data frame from scratch to show over all scores \n",
    "avg_data = {\n",
    "    'Name_of_Model': ['Efficient_Net_B7', 'Inception_Res_Net_V2', 'Mobile_Net', 'VGG19', 'Xception'],\n",
    "    'Overall_Average_Accuracies': [68.67, 82.67, 86.00, 78.33, 69.00]\n",
    "}\n",
    "avg_data_df = pd.DataFrame(avg_data)\n",
    "avg_data_df"
   ]
  },
  {
   "cell_type": "code",
   "execution_count": 43,
   "metadata": {},
   "outputs": [
    {
     "name": "stdout",
     "output_type": "stream",
     "text": [
      "Photo saved succesfully\n"
     ]
    },
    {
     "data": {
      "image/png": "[encoded data removed]",
      "text/plain": [
       "<Figure size 640x480 with 1 Axes>"
      ]
     },
     "metadata": {},
     "output_type": "display_data"
    }
   ],
   "source": [
    "sns.barplot(x='Name_of_Model', y='Overall_Average_Accuracies', data = avg_data_df)\n",
    "plt.title('Models Average Overall Accuracies')\n",
    "plt.xlabel('Name of Model Implemented')\n",
    "plt.ylabel('Accuracy of Model (%)')\n",
    "plt.xticks(rotation=45)\n",
    "plt.savefig('../Outputs/overall_accuracy_graph', dpi=300, bbox_inches='tight')\n",
    "print(f'Photo saved succesfully')\n",
    "plt.show()"
   ]
  },
  {
   "cell_type": "code",
   "execution_count": null,
   "metadata": {},
   "outputs": [],
   "source": []
  },
  {
   "cell_type": "code",
   "execution_count": 45,
   "metadata": {},
   "outputs": [],
   "source": [
    "# close the database connection\n",
    "conn.close()"
   ]
  },
  {
   "cell_type": "code",
   "execution_count": null,
   "metadata": {},
   "outputs": [],
   "source": []
  }
 ],
 "metadata": {
  "kernelspec": {
   "display_name": "dev",
   "language": "python",
   "name": "python3"
  },
  "language_info": {
   "codemirror_mode": {
    "name": "ipython",
    "version": 3
   },
   "file_extension": ".py",
   "mimetype": "text/x-python",
   "name": "python",
   "nbconvert_exporter": "python",
   "pygments_lexer": "ipython3",
   "version": "3.10.13"
  }
 },
 "nbformat": 4,
 "nbformat_minor": 2
}
